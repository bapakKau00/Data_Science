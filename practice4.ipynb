{
 "cells": [
  {
   "cell_type": "code",
   "execution_count": 21,
   "id": "5b5520ea",
   "metadata": {},
   "outputs": [
    {
     "name": "stdout",
     "output_type": "stream",
     "text": [
      "phyton is cool\n",
      "phyton is cool\n",
      "\n",
      "The Sun Shines Bright\n",
      "['The', 'sun', 'shines', 'bright']\n",
      "3\n",
      "True\n",
      "enter anything in x:10.5\n",
      "<class 'str'>\n",
      "x :10.5 y: 11.5\n"
     ]
    }
   ],
   "source": [
    "#format string\n",
    "who='phyton'\n",
    "what='cool'\n",
    "\n",
    "str1 = f\"{who} is {what}\"\n",
    "print(str1)\n",
    "\n",
    "str2 = \"%s is %s\" %(who,what)\n",
    "print(str2)\n",
    "print('')\n",
    "\n",
    "#string method\n",
    "txt='The sun shines bright'\n",
    "print(txt.title()) # caps every first letter\n",
    "print(txt.split()) #put string into list\n",
    "print(txt.count('s',0,len(txt))) #count letter\n",
    "txt2 ='i love python'\n",
    "print('love' in txt2) #return true if words exist in sentence'\n",
    "\n",
    "x = input(\"enter anything in x:\")\n",
    "print(type(x))\n",
    "y = float(x)+1\n",
    "print(f\"x :{x} y: {y}\")\n"
   ]
  },
  {
   "cell_type": "code",
   "execution_count": 38,
   "id": "019e7f1a",
   "metadata": {},
   "outputs": [
    {
     "name": "stdout",
     "output_type": "stream",
     "text": [
      "Enter name : weqeq\n",
      "Year Born : 2000\n",
      "Matrix Num : sw1221\n",
      "name: weqeq, Matrix no : sw1221\n",
      "Age : 23\n",
      "name: weqeq matrix : sw1221 \n",
      "age : 23\n"
     ]
    }
   ],
   "source": [
    "name = input(\"Enter name : \")\n",
    "dob = input(\"Year Born : \")\n",
    "matr = input(\"Matrix Num : \")\n",
    "print('')\n",
    "\n",
    "age = 2023 - int(dob) #int(var) means convert from type to int\n",
    "\n",
    "print(f\"name: {name}, Matrix no : {matr}\")\n",
    "print(f\"Age : {age}\")\n",
    "\n",
    "print(\"name:\", name, \"matrix :\", matr, \"\\nage :\", age)"
   ]
  },
  {
   "cell_type": "code",
   "execution_count": 58,
   "id": "d94f29b4",
   "metadata": {},
   "outputs": [
    {
     "name": "stdout",
     "output_type": "stream",
     "text": [
      "x is odd\n",
      "x is less than y\n",
      "Eligible\n"
     ]
    }
   ],
   "source": [
    "#if..else and loop\n",
    "x = 5\n",
    "if(x % 2 ==0) :\n",
    "    print('x is even')\n",
    "\n",
    "elif (x%2 != 0) :\n",
    "    print('x is odd')\n",
    "\n",
    "#nested if\n",
    "x = 10\n",
    "y = 11\n",
    "\n",
    "if(x==y) :\n",
    "    print('x and y are equal')\n",
    "    \n",
    "else :\n",
    "    if(x<y) :\n",
    "        print('x is less than y')\n",
    "    else :\n",
    "        print('x is greater than y')\n",
    "        \n",
    "#expert if\n",
    "age =22\n",
    "message = \"Eligible\" if age>=18 else \"Not eligible\"\n",
    "print(message)"
   ]
  },
  {
   "cell_type": "code",
   "execution_count": 65,
   "id": "9c26716f",
   "metadata": {},
   "outputs": [
    {
     "name": "stdout",
     "output_type": "stream",
     "text": [
      "Eligible\n",
      "eligible\n"
     ]
    }
   ],
   "source": [
    "highIncome = True\n",
    "goodCredit = True\n",
    "std = False\n",
    "\n",
    "if(highIncome & goodCredit):\n",
    "    print('Eligible')\n",
    "else :\n",
    "    print('Not Eligible')\n",
    "    \n",
    "if(highIncome & goodCredit and not std):\n",
    "    print('eligible')"
   ]
  },
  {
   "cell_type": "code",
   "execution_count": 69,
   "id": "848423a2",
   "metadata": {},
   "outputs": [
    {
     "name": "stdout",
     "output_type": "stream",
     "text": [
      "1\n",
      "2\n",
      "3\n",
      "4\n",
      "5\n",
      "\n",
      "0 0\n",
      "0 1\n",
      "1 0\n",
      "1 1\n"
     ]
    }
   ],
   "source": [
    "#loop\n",
    "for i in range(5):\n",
    "    print(i+1)\n",
    "    \n",
    "print('')\n",
    "for x in range(2):\n",
    "    for y in range(2):\n",
    "        print(f\"{x} {y}\")"
   ]
  },
  {
   "cell_type": "code",
   "execution_count": null,
   "id": "311e770c",
   "metadata": {},
   "outputs": [],
   "source": []
  }
 ],
 "metadata": {
  "kernelspec": {
   "display_name": "Python 3 (ipykernel)",
   "language": "python",
   "name": "python3"
  },
  "language_info": {
   "codemirror_mode": {
    "name": "ipython",
    "version": 3
   },
   "file_extension": ".py",
   "mimetype": "text/x-python",
   "name": "python",
   "nbconvert_exporter": "python",
   "pygments_lexer": "ipython3",
   "version": "3.10.9"
  }
 },
 "nbformat": 4,
 "nbformat_minor": 5
}
